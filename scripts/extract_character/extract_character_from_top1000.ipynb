{
 "cells": [
  {
   "cell_type": "code",
   "execution_count": 1,
   "metadata": {
    "collapsed": true
   },
   "outputs": [],
   "source": [
    "import re"
   ]
  },
  {
   "cell_type": "code",
   "execution_count": 2,
   "metadata": {
    "collapsed": false
   },
   "outputs": [],
   "source": [
    "from bs4 import BeautifulSoup"
   ]
  },
  {
   "cell_type": "code",
   "execution_count": 3,
   "metadata": {
    "collapsed": true
   },
   "outputs": [],
   "source": [
    "import numpy as np"
   ]
  },
  {
   "cell_type": "code",
   "execution_count": 4,
   "metadata": {
    "collapsed": true
   },
   "outputs": [],
   "source": [
    "import pandas as pd"
   ]
  },
  {
   "cell_type": "markdown",
   "metadata": {},
   "source": [
    "定义两个函数：\n",
    "- find_phonetic 寻找所有音标\n",
    "- find_speech 寻找所有词性"
   ]
  },
  {
   "cell_type": "code",
   "execution_count": 5,
   "metadata": {
    "collapsed": false
   },
   "outputs": [],
   "source": [
    "def find_phonetic(data):\n",
    "    bsObj = BeautifulSoup(data, \"lxml\")\n",
    "    mylist = bsObj.find_all('font', {'color':'darkslategray'})\n",
    "    lst = [i.get_text() for i in mylist]\n",
    "    return '\\n'.join(lst)"
   ]
  },
  {
   "cell_type": "code",
   "execution_count": 6,
   "metadata": {
    "collapsed": false
   },
   "outputs": [],
   "source": [
    "def find_speech(data):\n",
    "    bsObj = BeautifulSoup(data, \"lxml\")\n",
    "    mylist = bsObj.find_all('span', {'style':'color: #FFFFFF; background-color: #006400; font-size: xx-small'})\n",
    "    lst = [i.get_text() for i in mylist]\n",
    "    return '\\n'.join(lst)"
   ]
  },
  {
   "cell_type": "markdown",
   "metadata": {},
   "source": [
    "导入从欧路导出的韦伯详细解释 html 文件"
   ]
  },
  {
   "cell_type": "code",
   "execution_count": 7,
   "metadata": {
    "collapsed": false
   },
   "outputs": [],
   "source": [
    "with open('top1000_Eudic_WB.html') as file:\n",
    "    data = file.read()"
   ]
  },
  {
   "cell_type": "code",
   "execution_count": 8,
   "metadata": {
    "collapsed": false
   },
   "outputs": [],
   "source": [
    "df = pd.DataFrame({'all': data.split('<tr>\\n                ')[2:]}) # 从第二个开始算起"
   ]
  },
  {
   "cell_type": "code",
   "execution_count": 9,
   "metadata": {
    "collapsed": false,
    "scrolled": true
   },
   "outputs": [
    {
     "data": {
      "text/html": [
       "<div>\n",
       "<table border=\"1\" class=\"dataframe\">\n",
       "  <thead>\n",
       "    <tr style=\"text-align: right;\">\n",
       "      <th></th>\n",
       "      <th>all</th>\n",
       "    </tr>\n",
       "  </thead>\n",
       "  <tbody>\n",
       "    <tr>\n",
       "      <th>0</th>\n",
       "      <td>&lt;td class=\"export-td\"&gt;1&lt;/td&gt;\\n                ...</td>\n",
       "    </tr>\n",
       "    <tr>\n",
       "      <th>1</th>\n",
       "      <td>&lt;td class=\"export-td\"&gt;2&lt;/td&gt;\\n                ...</td>\n",
       "    </tr>\n",
       "    <tr>\n",
       "      <th>2</th>\n",
       "      <td>&lt;td class=\"export-td\"&gt;3&lt;/td&gt;\\n                ...</td>\n",
       "    </tr>\n",
       "    <tr>\n",
       "      <th>3</th>\n",
       "      <td>&lt;td class=\"export-td\"&gt;4&lt;/td&gt;\\n                ...</td>\n",
       "    </tr>\n",
       "    <tr>\n",
       "      <th>4</th>\n",
       "      <td>&lt;td class=\"export-td\"&gt;5&lt;/td&gt;\\n                ...</td>\n",
       "    </tr>\n",
       "  </tbody>\n",
       "</table>\n",
       "</div>"
      ],
      "text/plain": [
       "                                                 all\n",
       "0  <td class=\"export-td\">1</td>\\n                ...\n",
       "1  <td class=\"export-td\">2</td>\\n                ...\n",
       "2  <td class=\"export-td\">3</td>\\n                ...\n",
       "3  <td class=\"export-td\">4</td>\\n                ...\n",
       "4  <td class=\"export-td\">5</td>\\n                ..."
      ]
     },
     "execution_count": 9,
     "metadata": {},
     "output_type": "execute_result"
    }
   ],
   "source": [
    "df.head()"
   ]
  },
  {
   "cell_type": "code",
   "execution_count": 12,
   "metadata": {
    "collapsed": false,
    "scrolled": true
   },
   "outputs": [],
   "source": [
    "df['phonetic'] = df['all'].map(find_phonetic)"
   ]
  },
  {
   "cell_type": "code",
   "execution_count": 13,
   "metadata": {
    "collapsed": false
   },
   "outputs": [
    {
     "data": {
      "text/html": [
       "<div>\n",
       "<table border=\"1\" class=\"dataframe\">\n",
       "  <thead>\n",
       "    <tr style=\"text-align: right;\">\n",
       "      <th></th>\n",
       "      <th>all</th>\n",
       "      <th>phonetic</th>\n",
       "    </tr>\n",
       "  </thead>\n",
       "  <tbody>\n",
       "    <tr>\n",
       "      <th>0</th>\n",
       "      <td>&lt;td class=\"export-td\"&gt;1&lt;/td&gt;\\n                ...</td>\n",
       "      <td>/ˈeı/\\n/ə, ˈeı/\\n/ən, ˈæn/</td>\n",
       "    </tr>\n",
       "    <tr>\n",
       "      <th>1</th>\n",
       "      <td>&lt;td class=\"export-td\"&gt;2&lt;/td&gt;\\n                ...</td>\n",
       "      <td>/əˈbıləti/</td>\n",
       "    </tr>\n",
       "    <tr>\n",
       "      <th>2</th>\n",
       "      <td>&lt;td class=\"export-td\"&gt;3&lt;/td&gt;\\n                ...</td>\n",
       "      <td>/ˈeıbəl/</td>\n",
       "    </tr>\n",
       "    <tr>\n",
       "      <th>3</th>\n",
       "      <td>&lt;td class=\"export-td\"&gt;4&lt;/td&gt;\\n                ...</td>\n",
       "      <td>/əˈbaʊt/</td>\n",
       "    </tr>\n",
       "    <tr>\n",
       "      <th>4</th>\n",
       "      <td>&lt;td class=\"export-td\"&gt;5&lt;/td&gt;\\n                ...</td>\n",
       "      <td>/əˈbʌv/</td>\n",
       "    </tr>\n",
       "  </tbody>\n",
       "</table>\n",
       "</div>"
      ],
      "text/plain": [
       "                                                 all  \\\n",
       "0  <td class=\"export-td\">1</td>\\n                ...   \n",
       "1  <td class=\"export-td\">2</td>\\n                ...   \n",
       "2  <td class=\"export-td\">3</td>\\n                ...   \n",
       "3  <td class=\"export-td\">4</td>\\n                ...   \n",
       "4  <td class=\"export-td\">5</td>\\n                ...   \n",
       "\n",
       "                     phonetic  \n",
       "0  /ˈeı/\\n/ə, ˈeı/\\n/ən, ˈæn/  \n",
       "1                  /əˈbıləti/  \n",
       "2                    /ˈeıbəl/  \n",
       "3                    /əˈbaʊt/  \n",
       "4                     /əˈbʌv/  "
      ]
     },
     "execution_count": 13,
     "metadata": {},
     "output_type": "execute_result"
    }
   ],
   "source": [
    "df.head()"
   ]
  },
  {
   "cell_type": "code",
   "execution_count": 15,
   "metadata": {
    "collapsed": false
   },
   "outputs": [
    {
     "data": {
      "text/plain": [
       "'/ˈeı/\\n/ə, ˈeı/\\n/ən, ˈæn/'"
      ]
     },
     "execution_count": 15,
     "metadata": {},
     "output_type": "execute_result"
    }
   ],
   "source": [
    "df.phonetic[0]"
   ]
  },
  {
   "cell_type": "markdown",
   "metadata": {},
   "source": [
    "导入一个 top1000词 的 csv 文件做拼接用"
   ]
  },
  {
   "cell_type": "code",
   "execution_count": 17,
   "metadata": {
    "collapsed": true
   },
   "outputs": [],
   "source": [
    "df_csv = pd.read_csv('top1000_Eudic_WB.csv')"
   ]
  },
  {
   "cell_type": "code",
   "execution_count": 18,
   "metadata": {
    "collapsed": false,
    "scrolled": true
   },
   "outputs": [],
   "source": [
    "df_csv.rename(columns={'单词': 'words', '解释': 'meaning'}, inplace=True)"
   ]
  },
  {
   "cell_type": "code",
   "execution_count": 19,
   "metadata": {
    "collapsed": false
   },
   "outputs": [],
   "source": [
    "df = pd.concat([df_csv.ix[:, ['words']], df], axis=1)"
   ]
  },
  {
   "cell_type": "code",
   "execution_count": 20,
   "metadata": {
    "collapsed": false
   },
   "outputs": [
    {
     "data": {
      "text/html": [
       "<div>\n",
       "<table border=\"1\" class=\"dataframe\">\n",
       "  <thead>\n",
       "    <tr style=\"text-align: right;\">\n",
       "      <th></th>\n",
       "      <th>words</th>\n",
       "      <th>all</th>\n",
       "      <th>phonetic</th>\n",
       "    </tr>\n",
       "  </thead>\n",
       "  <tbody>\n",
       "    <tr>\n",
       "      <th>0</th>\n",
       "      <td>a</td>\n",
       "      <td>&lt;td class=\"export-td\"&gt;1&lt;/td&gt;\\n                ...</td>\n",
       "      <td>/ˈeı/\\n/ə, ˈeı/\\n/ən, ˈæn/</td>\n",
       "    </tr>\n",
       "    <tr>\n",
       "      <th>1</th>\n",
       "      <td>ability</td>\n",
       "      <td>&lt;td class=\"export-td\"&gt;2&lt;/td&gt;\\n                ...</td>\n",
       "      <td>/əˈbıləti/</td>\n",
       "    </tr>\n",
       "    <tr>\n",
       "      <th>2</th>\n",
       "      <td>able</td>\n",
       "      <td>&lt;td class=\"export-td\"&gt;3&lt;/td&gt;\\n                ...</td>\n",
       "      <td>/ˈeıbəl/</td>\n",
       "    </tr>\n",
       "    <tr>\n",
       "      <th>3</th>\n",
       "      <td>about</td>\n",
       "      <td>&lt;td class=\"export-td\"&gt;4&lt;/td&gt;\\n                ...</td>\n",
       "      <td>/əˈbaʊt/</td>\n",
       "    </tr>\n",
       "    <tr>\n",
       "      <th>4</th>\n",
       "      <td>above</td>\n",
       "      <td>&lt;td class=\"export-td\"&gt;5&lt;/td&gt;\\n                ...</td>\n",
       "      <td>/əˈbʌv/</td>\n",
       "    </tr>\n",
       "  </tbody>\n",
       "</table>\n",
       "</div>"
      ],
      "text/plain": [
       "     words                                                all  \\\n",
       "0        a  <td class=\"export-td\">1</td>\\n                ...   \n",
       "1  ability  <td class=\"export-td\">2</td>\\n                ...   \n",
       "2     able  <td class=\"export-td\">3</td>\\n                ...   \n",
       "3    about  <td class=\"export-td\">4</td>\\n                ...   \n",
       "4    above  <td class=\"export-td\">5</td>\\n                ...   \n",
       "\n",
       "                     phonetic  \n",
       "0  /ˈeı/\\n/ə, ˈeı/\\n/ən, ˈæn/  \n",
       "1                  /əˈbıləti/  \n",
       "2                    /ˈeıbəl/  \n",
       "3                    /əˈbaʊt/  \n",
       "4                     /əˈbʌv/  "
      ]
     },
     "execution_count": 20,
     "metadata": {},
     "output_type": "execute_result"
    }
   ],
   "source": [
    "df.head()"
   ]
  },
  {
   "cell_type": "code",
   "execution_count": 21,
   "metadata": {
    "collapsed": true
   },
   "outputs": [],
   "source": [
    "df['all_speech'] = df['all'].map(find_speech)"
   ]
  },
  {
   "cell_type": "code",
   "execution_count": 22,
   "metadata": {
    "collapsed": false
   },
   "outputs": [
    {
     "data": {
      "text/html": [
       "<div>\n",
       "<table border=\"1\" class=\"dataframe\">\n",
       "  <thead>\n",
       "    <tr style=\"text-align: right;\">\n",
       "      <th></th>\n",
       "      <th>words</th>\n",
       "      <th>all</th>\n",
       "      <th>phonetic</th>\n",
       "      <th>all_speech</th>\n",
       "    </tr>\n",
       "  </thead>\n",
       "  <tbody>\n",
       "    <tr>\n",
       "      <th>0</th>\n",
       "      <td>a</td>\n",
       "      <td>&lt;td class=\"export-td\"&gt;1&lt;/td&gt;\\n                ...</td>\n",
       "      <td>/ˈeı/\\n/ə, ˈeı/\\n/ən, ˈæn/</td>\n",
       "      <td>or \\n noun \\n pl \\n or \\n or \\n or \\n[  count...</td>\n",
       "    </tr>\n",
       "    <tr>\n",
       "      <th>1</th>\n",
       "      <td>ability</td>\n",
       "      <td>&lt;td class=\"export-td\"&gt;2&lt;/td&gt;\\n                ...</td>\n",
       "      <td>/əˈbıləti/</td>\n",
       "      <td>also \\n noun suffix \\n noun \\n pl \\n[  count ...</td>\n",
       "    </tr>\n",
       "    <tr>\n",
       "      <th>2</th>\n",
       "      <td>able</td>\n",
       "      <td>&lt;td class=\"export-td\"&gt;3&lt;/td&gt;\\n                ...</td>\n",
       "      <td>/ˈeıbəl/</td>\n",
       "      <td>also \\n adj suffix \\n adj</td>\n",
       "    </tr>\n",
       "    <tr>\n",
       "      <th>3</th>\n",
       "      <td>about</td>\n",
       "      <td>&lt;td class=\"export-td\"&gt;4&lt;/td&gt;\\n                ...</td>\n",
       "      <td>/əˈbaʊt/</td>\n",
       "      <td>adv \\n prep \\n adj</td>\n",
       "    </tr>\n",
       "    <tr>\n",
       "      <th>4</th>\n",
       "      <td>above</td>\n",
       "      <td>&lt;td class=\"export-td\"&gt;5&lt;/td&gt;\\n                ...</td>\n",
       "      <td>/əˈbʌv/</td>\n",
       "      <td>adv \\n prep \\n chiefly Brit \\n adj</td>\n",
       "    </tr>\n",
       "    <tr>\n",
       "      <th>5</th>\n",
       "      <td>accept</td>\n",
       "      <td>&lt;td class=\"export-td\"&gt;6&lt;/td&gt;\\n                ...</td>\n",
       "      <td>/ıkˈsɛpt/\\n/ıkˈsɛptɚ/</td>\n",
       "      <td>verb \\n[  + obj  ]\\n[  no obj  ]\\n[  + obj  ]...</td>\n",
       "    </tr>\n",
       "    <tr>\n",
       "      <th>6</th>\n",
       "      <td>according</td>\n",
       "      <td>&lt;td class=\"export-td\"&gt;7&lt;/td&gt;\\n                ...</td>\n",
       "      <td></td>\n",
       "      <td></td>\n",
       "    </tr>\n",
       "    <tr>\n",
       "      <th>7</th>\n",
       "      <td>across</td>\n",
       "      <td>&lt;td class=\"export-td\"&gt;8&lt;/td&gt;\\n                ...</td>\n",
       "      <td>/əˈkʰrɑːs/</td>\n",
       "      <td>prep \\n adv</td>\n",
       "    </tr>\n",
       "    <tr>\n",
       "      <th>8</th>\n",
       "      <td>act</td>\n",
       "      <td>&lt;td class=\"export-td\"&gt;9&lt;/td&gt;\\n                ...</td>\n",
       "      <td>/ˈækt/</td>\n",
       "      <td>noun \\n pl \\n[  count  ]\\n[  count  ]\\n[  cou...</td>\n",
       "    </tr>\n",
       "    <tr>\n",
       "      <th>9</th>\n",
       "      <td>action</td>\n",
       "      <td>&lt;td class=\"export-td\"&gt;10&lt;/td&gt;\\n               ...</td>\n",
       "      <td>/ˈækʃən/</td>\n",
       "      <td>noun \\n pl \\n[  count  ]\\n[  noncount  ]\\n[  ...</td>\n",
       "    </tr>\n",
       "  </tbody>\n",
       "</table>\n",
       "</div>"
      ],
      "text/plain": [
       "       words                                                all  \\\n",
       "0          a  <td class=\"export-td\">1</td>\\n                ...   \n",
       "1    ability  <td class=\"export-td\">2</td>\\n                ...   \n",
       "2       able  <td class=\"export-td\">3</td>\\n                ...   \n",
       "3      about  <td class=\"export-td\">4</td>\\n                ...   \n",
       "4      above  <td class=\"export-td\">5</td>\\n                ...   \n",
       "5     accept  <td class=\"export-td\">6</td>\\n                ...   \n",
       "6  according  <td class=\"export-td\">7</td>\\n                ...   \n",
       "7     across  <td class=\"export-td\">8</td>\\n                ...   \n",
       "8        act  <td class=\"export-td\">9</td>\\n                ...   \n",
       "9     action  <td class=\"export-td\">10</td>\\n               ...   \n",
       "\n",
       "                     phonetic  \\\n",
       "0  /ˈeı/\\n/ə, ˈeı/\\n/ən, ˈæn/   \n",
       "1                  /əˈbıləti/   \n",
       "2                    /ˈeıbəl/   \n",
       "3                    /əˈbaʊt/   \n",
       "4                     /əˈbʌv/   \n",
       "5       /ıkˈsɛpt/\\n/ıkˈsɛptɚ/   \n",
       "6                               \n",
       "7                  /əˈkʰrɑːs/   \n",
       "8                      /ˈækt/   \n",
       "9                    /ˈækʃən/   \n",
       "\n",
       "                                          all_speech  \n",
       "0   or \\n noun \\n pl \\n or \\n or \\n or \\n[  count...  \n",
       "1   also \\n noun suffix \\n noun \\n pl \\n[  count ...  \n",
       "2                         also \\n adj suffix \\n adj   \n",
       "3                                adv \\n prep \\n adj   \n",
       "4                adv \\n prep \\n chiefly Brit \\n adj   \n",
       "5   verb \\n[  + obj  ]\\n[  no obj  ]\\n[  + obj  ]...  \n",
       "6                                                     \n",
       "7                                       prep \\n adv   \n",
       "8   noun \\n pl \\n[  count  ]\\n[  count  ]\\n[  cou...  \n",
       "9   noun \\n pl \\n[  count  ]\\n[  noncount  ]\\n[  ...  "
      ]
     },
     "execution_count": 22,
     "metadata": {},
     "output_type": "execute_result"
    }
   ],
   "source": [
    "df.head(10)"
   ]
  },
  {
   "cell_type": "markdown",
   "metadata": {},
   "source": [
    "导入一个 8 大词性文件， 便于从 all 词性里面提取有价值词性"
   ]
  },
  {
   "cell_type": "code",
   "execution_count": 25,
   "metadata": {
    "collapsed": true
   },
   "outputs": [],
   "source": [
    "df_eight_speech = pd.read_csv('eight_speech.txt')"
   ]
  },
  {
   "cell_type": "code",
   "execution_count": 26,
   "metadata": {
    "collapsed": false
   },
   "outputs": [
    {
     "data": {
      "text/html": [
       "<div>\n",
       "<table border=\"1\" class=\"dataframe\">\n",
       "  <thead>\n",
       "    <tr style=\"text-align: right;\">\n",
       "      <th></th>\n",
       "      <th>speech</th>\n",
       "      <th>count</th>\n",
       "    </tr>\n",
       "  </thead>\n",
       "  <tbody>\n",
       "    <tr>\n",
       "      <th>0</th>\n",
       "      <td>noun</td>\n",
       "      <td>802</td>\n",
       "    </tr>\n",
       "    <tr>\n",
       "      <th>1</th>\n",
       "      <td>verb</td>\n",
       "      <td>435</td>\n",
       "    </tr>\n",
       "    <tr>\n",
       "      <th>2</th>\n",
       "      <td>adj</td>\n",
       "      <td>363</td>\n",
       "    </tr>\n",
       "    <tr>\n",
       "      <th>3</th>\n",
       "      <td>adv</td>\n",
       "      <td>229</td>\n",
       "    </tr>\n",
       "    <tr>\n",
       "      <th>4</th>\n",
       "      <td>pronoun</td>\n",
       "      <td>71</td>\n",
       "    </tr>\n",
       "    <tr>\n",
       "      <th>5</th>\n",
       "      <td>prep</td>\n",
       "      <td>51</td>\n",
       "    </tr>\n",
       "    <tr>\n",
       "      <th>6</th>\n",
       "      <td>conj</td>\n",
       "      <td>31</td>\n",
       "    </tr>\n",
       "    <tr>\n",
       "      <th>7</th>\n",
       "      <td>interj</td>\n",
       "      <td>9</td>\n",
       "    </tr>\n",
       "  </tbody>\n",
       "</table>\n",
       "</div>"
      ],
      "text/plain": [
       "      speech  count\n",
       "0      noun     802\n",
       "1      verb     435\n",
       "2       adj     363\n",
       "3       adv     229\n",
       "4   pronoun      71\n",
       "5      prep      51\n",
       "6      conj      31\n",
       "7    interj       9"
      ]
     },
     "execution_count": 26,
     "metadata": {},
     "output_type": "execute_result"
    }
   ],
   "source": [
    "df_eight_speech"
   ]
  },
  {
   "cell_type": "markdown",
   "metadata": {},
   "source": [
    "定义一个函数求以下两个 array 的交集\n",
    "- df.all_speech\n",
    "- df_eight_speech.values"
   ]
  },
  {
   "cell_type": "code",
   "execution_count": 35,
   "metadata": {
    "collapsed": true
   },
   "outputs": [],
   "source": [
    "def find_intersection(values):\n",
    "    arr1 = np.asarray(values.split('\\n'))  # 先转成列表，再转 array\n",
    "    arr2 = df_eight_speech.speech.values\n",
    "    result = np.intersect1d(arr1, arr2)\n",
    "    lst = result.tolist()\n",
    "    return '\\n'.join(lst)"
   ]
  },
  {
   "cell_type": "code",
   "execution_count": 36,
   "metadata": {
    "collapsed": true
   },
   "outputs": [],
   "source": [
    "df['speech'] = df.all_speech.map(find_intersection)"
   ]
  },
  {
   "cell_type": "code",
   "execution_count": 41,
   "metadata": {
    "collapsed": false
   },
   "outputs": [
    {
     "data": {
      "text/html": [
       "<div>\n",
       "<table border=\"1\" class=\"dataframe\">\n",
       "  <thead>\n",
       "    <tr style=\"text-align: right;\">\n",
       "      <th></th>\n",
       "      <th>words</th>\n",
       "      <th>all</th>\n",
       "      <th>phonetic</th>\n",
       "      <th>all_speech</th>\n",
       "      <th>speech</th>\n",
       "    </tr>\n",
       "  </thead>\n",
       "  <tbody>\n",
       "    <tr>\n",
       "      <th>0</th>\n",
       "      <td>a</td>\n",
       "      <td>&lt;td class=\"export-td\"&gt;1&lt;/td&gt;\\n                ...</td>\n",
       "      <td>/ˈeı/\\n/ə, ˈeı/\\n/ən, ˈæn/</td>\n",
       "      <td>or \\n noun \\n pl \\n or \\n or \\n or \\n[  count...</td>\n",
       "      <td>noun</td>\n",
       "    </tr>\n",
       "    <tr>\n",
       "      <th>1</th>\n",
       "      <td>ability</td>\n",
       "      <td>&lt;td class=\"export-td\"&gt;2&lt;/td&gt;\\n                ...</td>\n",
       "      <td>/əˈbıləti/</td>\n",
       "      <td>also \\n noun suffix \\n noun \\n pl \\n[  count ...</td>\n",
       "      <td>noun</td>\n",
       "    </tr>\n",
       "    <tr>\n",
       "      <th>2</th>\n",
       "      <td>able</td>\n",
       "      <td>&lt;td class=\"export-td\"&gt;3&lt;/td&gt;\\n                ...</td>\n",
       "      <td>/ˈeıbəl/</td>\n",
       "      <td>also \\n adj suffix \\n adj</td>\n",
       "      <td>adj</td>\n",
       "    </tr>\n",
       "    <tr>\n",
       "      <th>3</th>\n",
       "      <td>about</td>\n",
       "      <td>&lt;td class=\"export-td\"&gt;4&lt;/td&gt;\\n                ...</td>\n",
       "      <td>/əˈbaʊt/</td>\n",
       "      <td>adv \\n prep \\n adj</td>\n",
       "      <td>adj \\n adv \\n prep</td>\n",
       "    </tr>\n",
       "    <tr>\n",
       "      <th>4</th>\n",
       "      <td>above</td>\n",
       "      <td>&lt;td class=\"export-td\"&gt;5&lt;/td&gt;\\n                ...</td>\n",
       "      <td>/əˈbʌv/</td>\n",
       "      <td>adv \\n prep \\n chiefly Brit \\n adj</td>\n",
       "      <td>adj \\n adv \\n prep</td>\n",
       "    </tr>\n",
       "  </tbody>\n",
       "</table>\n",
       "</div>"
      ],
      "text/plain": [
       "     words                                                all  \\\n",
       "0        a  <td class=\"export-td\">1</td>\\n                ...   \n",
       "1  ability  <td class=\"export-td\">2</td>\\n                ...   \n",
       "2     able  <td class=\"export-td\">3</td>\\n                ...   \n",
       "3    about  <td class=\"export-td\">4</td>\\n                ...   \n",
       "4    above  <td class=\"export-td\">5</td>\\n                ...   \n",
       "\n",
       "                     phonetic  \\\n",
       "0  /ˈeı/\\n/ə, ˈeı/\\n/ən, ˈæn/   \n",
       "1                  /əˈbıləti/   \n",
       "2                    /ˈeıbəl/   \n",
       "3                    /əˈbaʊt/   \n",
       "4                     /əˈbʌv/   \n",
       "\n",
       "                                          all_speech                speech  \n",
       "0   or \\n noun \\n pl \\n or \\n or \\n or \\n[  count...                 noun   \n",
       "1   also \\n noun suffix \\n noun \\n pl \\n[  count ...                 noun   \n",
       "2                         also \\n adj suffix \\n adj                   adj   \n",
       "3                                adv \\n prep \\n adj    adj \\n adv \\n prep   \n",
       "4                adv \\n prep \\n chiefly Brit \\n adj    adj \\n adv \\n prep   "
      ]
     },
     "execution_count": 41,
     "metadata": {},
     "output_type": "execute_result"
    }
   ],
   "source": [
    "df.head()"
   ]
  },
  {
   "cell_type": "markdown",
   "metadata": {},
   "source": [
    "导入一个 coca 的文件，方便合并排序"
   ]
  },
  {
   "cell_type": "code",
   "execution_count": 42,
   "metadata": {
    "collapsed": true
   },
   "outputs": [],
   "source": [
    "df_coca = pd.read_csv('top1000_coca.csv')"
   ]
  },
  {
   "cell_type": "code",
   "execution_count": 44,
   "metadata": {
    "collapsed": false
   },
   "outputs": [],
   "source": [
    "df = pd.merge(df_coca, df, on='words', how='left')"
   ]
  },
  {
   "cell_type": "code",
   "execution_count": 45,
   "metadata": {
    "collapsed": false
   },
   "outputs": [
    {
     "data": {
      "text/html": [
       "<div>\n",
       "<table border=\"1\" class=\"dataframe\">\n",
       "  <thead>\n",
       "    <tr style=\"text-align: right;\">\n",
       "      <th></th>\n",
       "      <th>rank</th>\n",
       "      <th>words</th>\n",
       "      <th>coca_speech</th>\n",
       "      <th>all</th>\n",
       "      <th>phonetic</th>\n",
       "      <th>all_speech</th>\n",
       "      <th>speech</th>\n",
       "    </tr>\n",
       "  </thead>\n",
       "  <tbody>\n",
       "    <tr>\n",
       "      <th>0</th>\n",
       "      <td>1</td>\n",
       "      <td>the</td>\n",
       "      <td>a</td>\n",
       "      <td>&lt;td class=\"export-td\"&gt;786&lt;/td&gt;\\n              ...</td>\n",
       "      <td>/ðə before consonant sounds, ði before vowel s...</td>\n",
       "      <td>definite article</td>\n",
       "      <td></td>\n",
       "    </tr>\n",
       "    <tr>\n",
       "      <th>1</th>\n",
       "      <td>2</td>\n",
       "      <td>be</td>\n",
       "      <td>v</td>\n",
       "      <td>&lt;td class=\"export-td\"&gt;72&lt;/td&gt;\\n               ...</td>\n",
       "      <td>/ˈbiː/\\n/ˈæm, əm/\\n/ˈɑɚ, ɚ/\\n/ˈız, əz/\\n/ˈwəz/...</td>\n",
       "      <td>verb \\n present first singular \\n second sing...</td>\n",
       "      <td>verb</td>\n",
       "    </tr>\n",
       "    <tr>\n",
       "      <th>2</th>\n",
       "      <td>3</td>\n",
       "      <td>and</td>\n",
       "      <td>c</td>\n",
       "      <td>&lt;td class=\"export-td\"&gt;37&lt;/td&gt;\\n               ...</td>\n",
       "      <td>/ˈænd, ənd, ən/</td>\n",
       "      <td>conj</td>\n",
       "      <td>conj</td>\n",
       "    </tr>\n",
       "    <tr>\n",
       "      <th>3</th>\n",
       "      <td>4</td>\n",
       "      <td>of</td>\n",
       "      <td>i</td>\n",
       "      <td>&lt;td class=\"export-td\"&gt;518&lt;/td&gt;\\n              ...</td>\n",
       "      <td>/ˈʌv, əv, Brit ˈɒv, əv, ə/</td>\n",
       "      <td>prep \\n US \\n informal \\n abbr</td>\n",
       "      <td>prep</td>\n",
       "    </tr>\n",
       "    <tr>\n",
       "      <th>4</th>\n",
       "      <td>5</td>\n",
       "      <td>a</td>\n",
       "      <td>a</td>\n",
       "      <td>&lt;td class=\"export-td\"&gt;1&lt;/td&gt;\\n                ...</td>\n",
       "      <td>/ˈeı/\\n/ə, ˈeı/\\n/ən, ˈæn/</td>\n",
       "      <td>or \\n noun \\n pl \\n or \\n or \\n or \\n[  count...</td>\n",
       "      <td>noun</td>\n",
       "    </tr>\n",
       "  </tbody>\n",
       "</table>\n",
       "</div>"
      ],
      "text/plain": [
       "   rank words coca_speech                                                all  \\\n",
       "0     1   the           a  <td class=\"export-td\">786</td>\\n              ...   \n",
       "1     2    be           v  <td class=\"export-td\">72</td>\\n               ...   \n",
       "2     3   and           c  <td class=\"export-td\">37</td>\\n               ...   \n",
       "3     4    of           i  <td class=\"export-td\">518</td>\\n              ...   \n",
       "4     5     a           a  <td class=\"export-td\">1</td>\\n                ...   \n",
       "\n",
       "                                            phonetic  \\\n",
       "0  /ðə before consonant sounds, ði before vowel s...   \n",
       "1  /ˈbiː/\\n/ˈæm, əm/\\n/ˈɑɚ, ɚ/\\n/ˈız, əz/\\n/ˈwəz/...   \n",
       "2                                    /ˈænd, ənd, ən/   \n",
       "3                         /ˈʌv, əv, Brit ˈɒv, əv, ə/   \n",
       "4                         /ˈeı/\\n/ə, ˈeı/\\n/ən, ˈæn/   \n",
       "\n",
       "                                          all_speech  speech  \n",
       "0                                  definite article           \n",
       "1   verb \\n present first singular \\n second sing...   verb   \n",
       "2                                              conj    conj   \n",
       "3                    prep \\n US \\n informal \\n abbr    prep   \n",
       "4   or \\n noun \\n pl \\n or \\n or \\n or \\n[  count...   noun   "
      ]
     },
     "execution_count": 45,
     "metadata": {},
     "output_type": "execute_result"
    }
   ],
   "source": [
    "df.head()"
   ]
  },
  {
   "cell_type": "code",
   "execution_count": 46,
   "metadata": {
    "collapsed": false
   },
   "outputs": [
    {
     "data": {
      "text/plain": [
       "Index(['rank', 'words', 'coca_speech', 'all', 'phonetic', 'all_speech',\n",
       "       'speech'],\n",
       "      dtype='object')"
      ]
     },
     "execution_count": 46,
     "metadata": {},
     "output_type": "execute_result"
    }
   ],
   "source": [
    "df.columns"
   ]
  },
  {
   "cell_type": "code",
   "execution_count": 47,
   "metadata": {
    "collapsed": true
   },
   "outputs": [],
   "source": [
    "df.rename(columns={'speech': 'WB_speech'}, inplace=True)"
   ]
  },
  {
   "cell_type": "code",
   "execution_count": 49,
   "metadata": {
    "collapsed": false,
    "scrolled": false
   },
   "outputs": [],
   "source": [
    "df.to_csv('top1000_phonetic.csv', columns=['rank', 'words', 'phonetic', 'coca_speech', 'WB_speech'], index=False)"
   ]
  },
  {
   "cell_type": "code",
   "execution_count": 50,
   "metadata": {
    "collapsed": false,
    "scrolled": false
   },
   "outputs": [],
   "source": [
    "df.to_excel('top1000_phonetic.xlsx', columns=['rank', 'words', 'phonetic', 'coca_speech', 'WB_speech'], index=False)"
   ]
  }
 ],
 "metadata": {
  "kernelspec": {
   "display_name": "Python 3",
   "language": "python",
   "name": "python3"
  },
  "language_info": {
   "codemirror_mode": {
    "name": "ipython",
    "version": 3
   },
   "file_extension": ".py",
   "mimetype": "text/x-python",
   "name": "python",
   "nbconvert_exporter": "python",
   "pygments_lexer": "ipython3",
   "version": "3.5.2"
  }
 },
 "nbformat": 4,
 "nbformat_minor": 1
}
