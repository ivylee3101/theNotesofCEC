{
 "cells": [
  {
   "cell_type": "code",
   "execution_count": 1,
   "metadata": {
    "collapsed": true
   },
   "outputs": [],
   "source": [
    "import numpy as np"
   ]
  },
  {
   "cell_type": "code",
   "execution_count": 2,
   "metadata": {
    "collapsed": true
   },
   "outputs": [],
   "source": [
    "import pandas as pd"
   ]
  },
  {
   "cell_type": "code",
   "execution_count": 3,
   "metadata": {
    "collapsed": true
   },
   "outputs": [],
   "source": [
    "df = pd.read_csv('coca20k_WB_speech.csv')"
   ]
  },
  {
   "cell_type": "code",
   "execution_count": 4,
   "metadata": {
    "collapsed": false,
    "scrolled": true
   },
   "outputs": [
    {
     "name": "stdout",
     "output_type": "stream",
     "text": [
      "<class 'pandas.core.frame.DataFrame'>\n",
      "RangeIndex: 20200 entries, 0 to 20199\n",
      "Data columns (total 5 columns):\n",
      "rank           20200 non-null int64\n",
      "words          20198 non-null object\n",
      "phonetic       17603 non-null object\n",
      "coca_speech    20200 non-null object\n",
      "WB_speech      18750 non-null object\n",
      "dtypes: int64(1), object(4)\n",
      "memory usage: 789.1+ KB\n"
     ]
    }
   ],
   "source": [
    "df.info()"
   ]
  },
  {
   "cell_type": "code",
   "execution_count": 5,
   "metadata": {
    "collapsed": false
   },
   "outputs": [
    {
     "data": {
      "text/html": [
       "<div>\n",
       "<table border=\"1\" class=\"dataframe\">\n",
       "  <thead>\n",
       "    <tr style=\"text-align: right;\">\n",
       "      <th></th>\n",
       "      <th>rank</th>\n",
       "      <th>words</th>\n",
       "      <th>phonetic</th>\n",
       "      <th>coca_speech</th>\n",
       "      <th>WB_speech</th>\n",
       "    </tr>\n",
       "  </thead>\n",
       "  <tbody>\n",
       "    <tr>\n",
       "      <th>20195</th>\n",
       "      <td>20196</td>\n",
       "      <td>doings [PL]</td>\n",
       "      <td>NaN</td>\n",
       "      <td>n</td>\n",
       "      <td>NaN</td>\n",
       "    </tr>\n",
       "    <tr>\n",
       "      <th>20196</th>\n",
       "      <td>20197</td>\n",
       "      <td>naturalism</td>\n",
       "      <td>/ˈnæʧərəˌlızəm/</td>\n",
       "      <td>n</td>\n",
       "      <td>noun</td>\n",
       "    </tr>\n",
       "    <tr>\n",
       "      <th>20197</th>\n",
       "      <td>20198</td>\n",
       "      <td>recyclable</td>\n",
       "      <td>/riˈsaıkləbəl/</td>\n",
       "      <td>j</td>\n",
       "      <td>adj \\n noun</td>\n",
       "    </tr>\n",
       "    <tr>\n",
       "      <th>20198</th>\n",
       "      <td>20199</td>\n",
       "      <td>laudable</td>\n",
       "      <td>/ˈlɑːdəbəl/\\n/ˈlɑːdəbli/</td>\n",
       "      <td>j</td>\n",
       "      <td>adj \\n adv</td>\n",
       "    </tr>\n",
       "    <tr>\n",
       "      <th>20199</th>\n",
       "      <td>20200</td>\n",
       "      <td>centralization</td>\n",
       "      <td>/ˌsɛntrələˈzeıʃən, Brit ˌsɛntrəˌlaıˈzeıʃən/</td>\n",
       "      <td>n</td>\n",
       "      <td>noun</td>\n",
       "    </tr>\n",
       "  </tbody>\n",
       "</table>\n",
       "</div>"
      ],
      "text/plain": [
       "        rank           words                                     phonetic  \\\n",
       "20195  20196     doings [PL]                                          NaN   \n",
       "20196  20197      naturalism                              /ˈnæʧərəˌlızəm/   \n",
       "20197  20198      recyclable                               /riˈsaıkləbəl/   \n",
       "20198  20199        laudable                     /ˈlɑːdəbəl/\\n/ˈlɑːdəbli/   \n",
       "20199  20200  centralization  /ˌsɛntrələˈzeıʃən, Brit ˌsɛntrəˌlaıˈzeıʃən/   \n",
       "\n",
       "      coca_speech      WB_speech  \n",
       "20195           n            NaN  \n",
       "20196           n          noun   \n",
       "20197           j   adj \\n noun   \n",
       "20198           j    adj \\n adv   \n",
       "20199           n          noun   "
      ]
     },
     "execution_count": 5,
     "metadata": {},
     "output_type": "execute_result"
    }
   ],
   "source": [
    "df.tail()"
   ]
  },
  {
   "cell_type": "code",
   "execution_count": 6,
   "metadata": {
    "collapsed": false,
    "scrolled": false
   },
   "outputs": [],
   "source": [
    "lst = np.array_split(df, 202)"
   ]
  },
  {
   "cell_type": "code",
   "execution_count": 7,
   "metadata": {
    "collapsed": false
   },
   "outputs": [],
   "source": [
    "i = 0\n",
    "for j in lst:\n",
    "    j.to_csv('coca20k_forecord_csv/coca20kr_'+str(i)+'.csv', index=False)\n",
    "    j.to_excel('coca20k_forecord_xlsx/coca20kr_'+str(i)+'.xlsx', index=False)        \n",
    "    i+=1"
   ]
  },
  {
   "cell_type": "code",
   "execution_count": 8,
   "metadata": {
    "collapsed": true
   },
   "outputs": [],
   "source": [
    "import os\n",
    "path1 = '/home/scott/Documents/BooksRepos/theNotesofCEC/scripts/extract_coca_words/file_split/coca20k_forecord_csv/'\n",
    "path2 = '/home/scott/Documents/BooksRepos/theNotesofCEC/scripts/extract_coca_words/file_split/coca20k_forecord_xlsx/'\n",
    "for filename in os.listdir(path1):\n",
    "    prefix, num = filename[:-4].split('_')\n",
    "    num = num.zfill(3)\n",
    "    new_filename1 = prefix + \"_\" + num + \".csv\"\n",
    "    os.rename(os.path.join(path1, filename), os.path.join(path1, new_filename1))"
   ]
  },
  {
   "cell_type": "code",
   "execution_count": 17,
   "metadata": {
    "collapsed": false
   },
   "outputs": [],
   "source": [
    "for filename in os.listdir(path2):\n",
    "    prefix, num = filename[:-5].split('_')\n",
    "    num = num.zfill(3)\n",
    "    new_filename2 = prefix + \"_\" + num + \".xlsx\"\n",
    "    os.rename(os.path.join(path2, filename), os.path.join(path2, new_filename2))"
   ]
  }
 ],
 "metadata": {
  "kernelspec": {
   "display_name": "Python 3",
   "language": "python",
   "name": "python3"
  },
  "language_info": {
   "codemirror_mode": {
    "name": "ipython",
    "version": 3
   },
   "file_extension": ".py",
   "mimetype": "text/x-python",
   "name": "python",
   "nbconvert_exporter": "python",
   "pygments_lexer": "ipython3",
   "version": "3.5.2"
  }
 },
 "nbformat": 4,
 "nbformat_minor": 1
}
