{
 "cells": [
  {
   "cell_type": "code",
   "execution_count": 2,
   "metadata": {
    "collapsed": true
   },
   "outputs": [],
   "source": [
    "import re"
   ]
  },
  {
   "cell_type": "code",
   "execution_count": 19,
   "metadata": {
    "collapsed": true
   },
   "outputs": [],
   "source": [
    "import numpy as np"
   ]
  },
  {
   "cell_type": "code",
   "execution_count": 1,
   "metadata": {
    "collapsed": true
   },
   "outputs": [],
   "source": [
    "import pandas as pd"
   ]
  },
  {
   "cell_type": "code",
   "execution_count": null,
   "metadata": {
    "collapsed": true
   },
   "outputs": [],
   "source": []
  },
  {
   "cell_type": "code",
   "execution_count": 3,
   "metadata": {
    "collapsed": true
   },
   "outputs": [],
   "source": [
    "df = pd.read_csv('data/coca20k_WB_speech.csv')"
   ]
  },
  {
   "cell_type": "code",
   "execution_count": 7,
   "metadata": {
    "collapsed": false
   },
   "outputs": [
    {
     "data": {
      "text/html": [
       "<div>\n",
       "<table border=\"1\" class=\"dataframe\">\n",
       "  <thead>\n",
       "    <tr style=\"text-align: right;\">\n",
       "      <th></th>\n",
       "      <th>rank</th>\n",
       "      <th>words</th>\n",
       "      <th>phonetic</th>\n",
       "      <th>coca_speech</th>\n",
       "      <th>WB_speech</th>\n",
       "    </tr>\n",
       "  </thead>\n",
       "  <tbody>\n",
       "    <tr>\n",
       "      <th>0</th>\n",
       "      <td>1</td>\n",
       "      <td>the</td>\n",
       "      <td>/ðə before consonant sounds, ði before vowel s...</td>\n",
       "      <td>a</td>\n",
       "      <td>NaN</td>\n",
       "    </tr>\n",
       "    <tr>\n",
       "      <th>1</th>\n",
       "      <td>2</td>\n",
       "      <td>be</td>\n",
       "      <td>/ˈbiː/\\n/ˈæm, əm/\\n/ˈɑɚ, ɚ/\\n/ˈız, əz/\\n/ˈwəz/...</td>\n",
       "      <td>v</td>\n",
       "      <td>verb</td>\n",
       "    </tr>\n",
       "    <tr>\n",
       "      <th>2</th>\n",
       "      <td>3</td>\n",
       "      <td>and</td>\n",
       "      <td>/ˈænd, ənd, ən/</td>\n",
       "      <td>c</td>\n",
       "      <td>conj</td>\n",
       "    </tr>\n",
       "    <tr>\n",
       "      <th>3</th>\n",
       "      <td>4</td>\n",
       "      <td>of</td>\n",
       "      <td>/ˈʌv, əv, Brit ˈɒv, əv, ə/</td>\n",
       "      <td>i</td>\n",
       "      <td>prep</td>\n",
       "    </tr>\n",
       "    <tr>\n",
       "      <th>4</th>\n",
       "      <td>5</td>\n",
       "      <td>a</td>\n",
       "      <td>/ˈeı/\\n/ə, ˈeı/\\n/ən, ˈæn/</td>\n",
       "      <td>a</td>\n",
       "      <td>noun</td>\n",
       "    </tr>\n",
       "    <tr>\n",
       "      <th>5</th>\n",
       "      <td>6</td>\n",
       "      <td>in</td>\n",
       "      <td>NaN</td>\n",
       "      <td>i</td>\n",
       "      <td>NaN</td>\n",
       "    </tr>\n",
       "    <tr>\n",
       "      <th>6</th>\n",
       "      <td>7</td>\n",
       "      <td>to</td>\n",
       "      <td>/ˈtuː, tə/\\n/ˈtuː/</td>\n",
       "      <td>t</td>\n",
       "      <td>adv \\n prep</td>\n",
       "    </tr>\n",
       "    <tr>\n",
       "      <th>7</th>\n",
       "      <td>8</td>\n",
       "      <td>have</td>\n",
       "      <td>/ˈhæv, əv; in “have to” meaning “must” usually...</td>\n",
       "      <td>v</td>\n",
       "      <td>verb</td>\n",
       "    </tr>\n",
       "    <tr>\n",
       "      <th>8</th>\n",
       "      <td>9</td>\n",
       "      <td>to</td>\n",
       "      <td>/ˈtuː, tə/\\n/ˈtuː/</td>\n",
       "      <td>i</td>\n",
       "      <td>adv \\n prep</td>\n",
       "    </tr>\n",
       "    <tr>\n",
       "      <th>9</th>\n",
       "      <td>10</td>\n",
       "      <td>it</td>\n",
       "      <td>/ˈıt, ət/\\n/ˈıt/</td>\n",
       "      <td>p</td>\n",
       "      <td>noun \\n pronoun</td>\n",
       "    </tr>\n",
       "  </tbody>\n",
       "</table>\n",
       "</div>"
      ],
      "text/plain": [
       "   rank words                                           phonetic coca_speech  \\\n",
       "0     1   the  /ðə before consonant sounds, ði before vowel s...           a   \n",
       "1     2    be  /ˈbiː/\\n/ˈæm, əm/\\n/ˈɑɚ, ɚ/\\n/ˈız, əz/\\n/ˈwəz/...           v   \n",
       "2     3   and                                    /ˈænd, ənd, ən/           c   \n",
       "3     4    of                         /ˈʌv, əv, Brit ˈɒv, əv, ə/           i   \n",
       "4     5     a                         /ˈeı/\\n/ə, ˈeı/\\n/ən, ˈæn/           a   \n",
       "5     6    in                                                NaN           i   \n",
       "6     7    to                                 /ˈtuː, tə/\\n/ˈtuː/           t   \n",
       "7     8  have  /ˈhæv, əv; in “have to” meaning “must” usually...           v   \n",
       "8     9    to                                 /ˈtuː, tə/\\n/ˈtuː/           i   \n",
       "9    10    it                                   /ˈıt, ət/\\n/ˈıt/           p   \n",
       "\n",
       "           WB_speech  \n",
       "0                NaN  \n",
       "1              verb   \n",
       "2              conj   \n",
       "3              prep   \n",
       "4              noun   \n",
       "5                NaN  \n",
       "6       adv \\n prep   \n",
       "7              verb   \n",
       "8       adv \\n prep   \n",
       "9   noun \\n pronoun   "
      ]
     },
     "execution_count": 7,
     "metadata": {},
     "output_type": "execute_result"
    }
   ],
   "source": [
    "df.head(10)"
   ]
  },
  {
   "cell_type": "code",
   "execution_count": 22,
   "metadata": {
    "collapsed": true
   },
   "outputs": [],
   "source": [
    "df_notnull = df[df.phonetic.notnull()]"
   ]
  },
  {
   "cell_type": "code",
   "execution_count": 23,
   "metadata": {
    "collapsed": false
   },
   "outputs": [
    {
     "name": "stdout",
     "output_type": "stream",
     "text": [
      "<class 'pandas.core.frame.DataFrame'>\n",
      "Int64Index: 17603 entries, 0 to 20199\n",
      "Data columns (total 5 columns):\n",
      "rank           17603 non-null int64\n",
      "words          17603 non-null object\n",
      "phonetic       17603 non-null object\n",
      "coca_speech    17603 non-null object\n",
      "WB_speech      17524 non-null object\n",
      "dtypes: int64(1), object(4)\n",
      "memory usage: 825.1+ KB\n"
     ]
    }
   ],
   "source": [
    "df_notnull.info()"
   ]
  },
  {
   "cell_type": "code",
   "execution_count": 29,
   "metadata": {
    "collapsed": false
   },
   "outputs": [
    {
     "data": {
      "text/html": [
       "<div>\n",
       "<table border=\"1\" class=\"dataframe\">\n",
       "  <thead>\n",
       "    <tr style=\"text-align: right;\">\n",
       "      <th></th>\n",
       "      <th>rank</th>\n",
       "      <th>words</th>\n",
       "      <th>phonetic</th>\n",
       "      <th>coca_speech</th>\n",
       "      <th>WB_speech</th>\n",
       "    </tr>\n",
       "  </thead>\n",
       "  <tbody>\n",
       "    <tr>\n",
       "      <th>2181</th>\n",
       "      <td>2182</td>\n",
       "      <td>bike</td>\n",
       "      <td>/ˈbaık/</td>\n",
       "      <td>n</td>\n",
       "      <td>noun \\n verb</td>\n",
       "    </tr>\n",
       "    <tr>\n",
       "      <th>11855</th>\n",
       "      <td>11856</td>\n",
       "      <td>bike</td>\n",
       "      <td>/ˈbaık/</td>\n",
       "      <td>v</td>\n",
       "      <td>noun \\n verb</td>\n",
       "    </tr>\n",
       "  </tbody>\n",
       "</table>\n",
       "</div>"
      ],
      "text/plain": [
       "        rank words phonetic coca_speech       WB_speech\n",
       "2181    2182  bike  /ˈbaık/           n   noun \\n verb \n",
       "11855  11856  bike  /ˈbaık/           v   noun \\n verb "
      ]
     },
     "execution_count": 29,
     "metadata": {},
     "output_type": "execute_result"
    }
   ],
   "source": [
    "df_notnull[df_notnull.words == 'bike']"
   ]
  },
  {
   "cell_type": "code",
   "execution_count": 33,
   "metadata": {
    "collapsed": false
   },
   "outputs": [],
   "source": [
    "df_notnull[df_notnull.phonetic.str.contains('aı')].ix[:5000, :].to_csv('coca5k_AA.csv', index=False)"
   ]
  },
  {
   "cell_type": "code",
   "execution_count": 34,
   "metadata": {
    "collapsed": false
   },
   "outputs": [],
   "source": [
    "df_notnull[df_notnull.phonetic.str.contains('æ')].ix[:5000, :].to_csv('coca5k_AY.csv', index=False)"
   ]
  },
  {
   "cell_type": "code",
   "execution_count": null,
   "metadata": {
    "collapsed": true
   },
   "outputs": [],
   "source": []
  }
 ],
 "metadata": {
  "kernelspec": {
   "display_name": "Python 3",
   "language": "python",
   "name": "python3"
  },
  "language_info": {
   "codemirror_mode": {
    "name": "ipython",
    "version": 3
   },
   "file_extension": ".py",
   "mimetype": "text/x-python",
   "name": "python",
   "nbconvert_exporter": "python",
   "pygments_lexer": "ipython3",
   "version": "3.5.2"
  }
 },
 "nbformat": 4,
 "nbformat_minor": 1
}
